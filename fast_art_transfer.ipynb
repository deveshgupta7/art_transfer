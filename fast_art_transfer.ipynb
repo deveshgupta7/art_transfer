{
  "nbformat": 4,
  "nbformat_minor": 0,
  "metadata": {
    "colab": {
      "name": "fast_art_transfer",
      "version": "0.3.2",
      "provenance": [],
      "include_colab_link": true
    },
    "kernelspec": {
      "name": "python3",
      "display_name": "Python 3"
    }
  },
  "cells": [
    {
      "cell_type":"markdown",
      "metadata": {
        "id": "view-in-github",
        "colab_type": "text"
      },
      "source": [
        "<a href=\"https://colab.research.google.com/github/pytholabsbot1/art_transfer/blob/master/fast_art_transfer.ipynb\" target=\"_parent\"><img src=\"https://colab.research.google.com/assets/colab-badge.svg\" alt=\"Open In Colab\"/></a>"
      ]
    },
    {
      "metadata": {
        "id": "tppqeRoaVNv6",
        "colab_type": "code",
        "outputId": "0d18815a-6352-4456-8a1b-5b02637e8523",
        "colab": {
          "base_uri": "https://localhost:8080/",
          "height": 104
        }
      },
      "cell_type": "code",
      "source": [
        "!git clone https://github.com/lengstrom/fast-style-transfer.git"
      ],
      "execution_count": 0,
      "outputs": [
        {
          "output_type": "stream",
          "text": [
            "Cloning into 'fast-style-transfer'...\n",
            "remote: Enumerating objects: 201, done.\u001b[K\n",
            "Receiving objects:   0% (1/201)   \rReceiving objects:   1% (3/201)   \rReceiving objects:   2% (5/201)   \rReceiving objects:   3% (7/201)   \rReceiving objects:   4% (9/201)   \rReceiving objects:   5% (11/201)   \rReceiving objects:   6% (13/201)   \rReceiving objects:   7% (15/201)   \rReceiving objects:   8% (17/201)   \rReceiving objects:   9% (19/201)   \rReceiving objects:  10% (21/201)   \rReceiving objects:  11% (23/201)   \rReceiving objects:  12% (25/201)   \rReceiving objects:  13% (27/201)   \rReceiving objects:  14% (29/201)   \rReceiving objects:  15% (31/201)   \rReceiving objects:  16% (33/201)   \rReceiving objects:  17% (35/201)   \rReceiving objects:  18% (37/201)   \rReceiving objects:  19% (39/201)   \rReceiving objects:  20% (41/201)   \rReceiving objects:  21% (43/201)   \rReceiving objects:  22% (45/201)   \rReceiving objects:  23% (47/201)   \rReceiving objects:  24% (49/201)   \rReceiving objects:  25% (51/201)   \rReceiving objects:  26% (53/201)   \rReceiving objects:  27% (55/201)   \rReceiving objects:  28% (57/201)   \rReceiving objects:  29% (59/201)   \rReceiving objects:  30% (61/201)   \rReceiving objects:  31% (63/201)   \rReceiving objects:  32% (65/201)   \rReceiving objects:  33% (67/201)   \rReceiving objects:  34% (69/201)   \rReceiving objects:  35% (71/201)   \rReceiving objects:  36% (73/201)   \rReceiving objects:  37% (75/201)   \rReceiving objects:  38% (77/201)   \rReceiving objects:  39% (79/201)   \rReceiving objects:  40% (81/201)   \rReceiving objects:  41% (83/201)   \rReceiving objects:  42% (85/201)   \rReceiving objects:  43% (87/201)   \rReceiving objects:  44% (89/201)   \rReceiving objects:  45% (91/201)   \rReceiving objects:  46% (93/201)   \rReceiving objects:  47% (95/201)   \rReceiving objects:  48% (97/201)   \rReceiving objects:  49% (99/201)   \rReceiving objects:  50% (101/201)   \rReceiving objects:  51% (103/201)   \rReceiving objects:  52% (105/201)   \rReceiving objects:  53% (107/201)   \rReceiving objects:  54% (109/201)   \rReceiving objects:  55% (111/201)   \rReceiving objects:  56% (113/201)   \rReceiving objects:  57% (115/201)   \rReceiving objects:  58% (117/201)   \rReceiving objects:  59% (119/201)   \rReceiving objects:  60% (121/201)   \rReceiving objects:  61% (123/201)   \rReceiving objects:  62% (125/201)   \rReceiving objects:  63% (127/201)   \rReceiving objects:  64% (129/201)   \rReceiving objects:  65% (131/201)   \rReceiving objects:  66% (133/201)   \rReceiving objects:  67% (135/201)   \rReceiving objects:  68% (137/201)   \rReceiving objects:  69% (139/201)   \rReceiving objects:  70% (141/201)   \rReceiving objects:  71% (143/201)   \rReceiving objects:  72% (145/201)   \rReceiving objects:  73% (147/201)   \rReceiving objects:  74% (149/201)   \rReceiving objects:  75% (151/201)   \rReceiving objects:  76% (153/201)   \rReceiving objects:  77% (155/201)   \rReceiving objects:  78% (157/201)   \rReceiving objects:  79% (159/201)   \rReceiving objects:  80% (161/201)   \rReceiving objects:  81% (163/201)   \rReceiving objects:  82% (165/201)   \rReceiving objects:  83% (167/201)   \rReceiving objects:  84% (169/201)   \rReceiving objects:  85% (171/201)   \rReceiving objects:  86% (173/201)   \rReceiving objects:  87% (175/201)   \rReceiving objects:  88% (177/201)   \rReceiving objects:  89% (179/201)   \rReceiving objects:  90% (181/201)   \rReceiving objects:  91% (183/201)   \rReceiving objects:  92% (185/201)   \rReceiving objects:  93% (187/201)   \rReceiving objects:  94% (189/201)   \rReceiving objects:  95% (191/201)   \rReceiving objects:  96% (193/201)   \rReceiving objects:  97% (195/201)   \rReceiving objects:  98% (197/201)   \rremote: Total 201 (delta 0), reused 0 (delta 0), pack-reused 201\u001b[K\n",
            "Receiving objects:  99% (199/201)   \rReceiving objects: 100% (201/201)   \rReceiving objects: 100% (201/201), 11.01 MiB | 46.96 MiB/s, done.\n",
            "Resolving deltas:   0% (0/91)   \rResolving deltas:   1% (1/91)   \rResolving deltas:   2% (2/91)   \rResolving deltas:   6% (6/91)   \rResolving deltas:  15% (14/91)   \rResolving deltas:  16% (15/91)   \rResolving deltas:  18% (17/91)   \rResolving deltas:  31% (29/91)   \rResolving deltas:  35% (32/91)   \rResolving deltas:  39% (36/91)   \rResolving deltas:  41% (38/91)   \rResolving deltas:  42% (39/91)   \rResolving deltas:  51% (47/91)   \rResolving deltas:  56% (51/91)   \rResolving deltas:  58% (53/91)   \rResolving deltas:  59% (54/91)   \rResolving deltas:  65% (60/91)   \rResolving deltas:  84% (77/91)   \rResolving deltas:  93% (85/91)   \rResolving deltas: 100% (91/91)   \rResolving deltas: 100% (91/91), done.\n"
          ],
          "name": "stdout"
        }
      ]
    },
    {
      "metadata": {
        "id": "cyqAFOdzd2aK",
        "colab_type": "code",
        "outputId": "167e3013-0238-4011-e3fa-4d0c6ad7459a",
        "colab": {
          "base_uri": "https://localhost:8080/",
          "height": 193
        }
      },
      "cell_type": "code",
      "source": [
        "!pip install web-assist"
      ],
      "execution_count": 0,
      "outputs": [
        {
          "output_type": "stream",
          "text": [
            "Collecting web-assist\n",
            "  Downloading https://files.pythonhosted.org/packages/6a/38/834779b0d8962213bbcb527ad0e48d000c7c5e08f32f4c74210eadf2a910/web_assist-0.0.5-py3-none-any.whl\n",
            "Requirement already satisfied: requests in /usr/local/lib/python3.6/dist-packages (from web-assist) (2.18.4)\n",
            "Requirement already satisfied: certifi>=2017.4.17 in /usr/local/lib/python3.6/dist-packages (from requests->web-assist) (2018.11.29)\n",
            "Requirement already satisfied: chardet<3.1.0,>=3.0.2 in /usr/local/lib/python3.6/dist-packages (from requests->web-assist) (3.0.4)\n",
            "Requirement already satisfied: urllib3<1.23,>=1.21.1 in /usr/local/lib/python3.6/dist-packages (from requests->web-assist) (1.22)\n",
            "Requirement already satisfied: idna<2.7,>=2.5 in /usr/local/lib/python3.6/dist-packages (from requests->web-assist) (2.6)\n",
            "Installing collected packages: web-assist\n",
            "Successfully installed web-assist-0.0.5\n"
          ],
          "name": "stdout"
        }
      ]
    },
    {
      "metadata": {
        "id": "gC1eONj6XlR1",
        "colab_type": "code",
        "outputId": "a9cac59c-83f5-4592-b875-ac5a2b9c5d42",
        "colab": {
          "base_uri": "https://localhost:8080/",
          "height": 52
        }
      },
      "cell_type": "code",
      "source": [
        "!ls"
      ],
      "execution_count": 0,
      "outputs": [
        {
          "output_type": "stream",
          "text": [
            "deep-photo-styletransfer-tf  sample_data\n",
            "fast-style-transfer\t     tensorflow-music-generator\n"
          ],
          "name": "stdout"
        }
      ]
    },
    {
      "metadata": {
        "id": "5KAlb1mIcGBu",
        "colab_type": "code",
        "colab": {}
      },
      "cell_type": "code",
      "source": [
        "import os\n",
        "os.chdir('fast-style-transfer')"
      ],
      "execution_count": 0,
      "outputs": []
    },
    {
      "metadata": {
        "id": "QbLADwxgdYGJ",
        "colab_type": "code",
        "outputId": "5eaa2d54-171b-4a19-d53c-49f26ecf10e6",
        "colab": {
          "base_uri": "https://localhost:8080/",
          "height": 52
        }
      },
      "cell_type": "code",
      "source": [
        "!ls"
      ],
      "execution_count": 0,
      "outputs": [
        {
          "output_type": "stream",
          "text": [
            "docs.md      examples\tsetup.sh  style.py\n",
            "evaluate.py  README.md\tsrc\t  transform_video.py\n"
          ],
          "name": "stdout"
        }
      ]
    },
    {
      "metadata": {
        "id": "sYBedhCRdabp",
        "colab_type": "code",
        "outputId": "29114e89-96d2-4e66-fb06-c846eac3a404",
        "colab": {
          "base_uri": "https://localhost:8080/",
          "height": 69
        }
      },
      "cell_type": "code",
      "source": [
        "##scrap\n",
        "import webAssist as wb\n",
        "\n",
        "!mkdir test\n",
        "!mkdir out_test\n",
        "\n",
        "wb.imageSearch('cats').download(out_dir='test')\n",
        "\n",
        "wb.Downloader('https://drive.google.com/uc?export=download&id=0B9jhaT37ydSyaEJlSFlIeUxweGs','chkpoint').download()\n",
        "!mv downlaoded_files/chkpoint.octet-stream chkpoint.ckpt"
      ],
      "execution_count": 0,
      "outputs": [
        {
          "output_type": "stream",
          "text": [
            "mkdir: cannot create directory ‘test’: File exists\n",
            "https://www.google.co.in/search?q=cats&source=lnms&tbm=isch\n",
            "creating a new file -- chkpoint.octet-stream\n"
          ],
          "name": "stdout"
        }
      ]
    },
    {
      "metadata": {
        "id": "iTrkxMDTdvkw",
        "colab_type": "code",
        "outputId": "36d17951-4b60-4437-e10b-1d9cfb720119",
        "colab": {
          "base_uri": "https://localhost:8080/",
          "height": 87
        }
      },
      "cell_type": "code",
      "source": [
        "!python evaluate.py --checkpoint chkpoint.ckpt --allow-different-dimensions --in-path test/ --out-path out_test/"
      ],
      "execution_count": 0,
      "outputs": [
        {
          "output_type": "stream",
          "text": [
            "Processing images of shape 400x400x3\n",
            "Processing images of shape 510x907x3\n",
            "Processing images of shape 400x600x3\n",
            "Processing images of shape 479x480x3\n"
          ],
          "name": "stdout"
        }
      ]
    },
    {
      "metadata": {
        "id": "f8zkFXEFgct5",
        "colab_type": "code",
        "colab": {
          "base_uri": "https://localhost:8080/",
          "height": 101
        },
        "outputId": "77cbf950-529c-4ce0-ecbc-2d4f312e6b28"
      },
      "cell_type": "code",
      "source": [
        "! zip -r fast_out.zip out_test"
      ],
      "execution_count": 32,
      "outputs": [
        {
          "output_type": "stream",
          "text": [
            "  adding: out_test/ (stored 0%)\n",
            "  adding: out_test/4.jpeg (deflated 0%)\n",
            "  adding: out_test/1.jpeg (deflated 0%)\n",
            "  adding: out_test/0.jpeg (deflated 0%)\n",
            "  adding: out_test/3.jpeg (deflated 0%)\n"
          ],
          "name": "stdout"
        }
      ]
    },
    {
      "metadata": {
        "id": "ZO1d7HhRgpBB",
        "colab_type": "code",
        "colab": {}
      },
      "cell_type": "code",
      "source": [
        "from google.colab import files\n",
        "\n",
        "files.download('fast_out.zip')"
      ],
      "execution_count": 0,
      "outputs": []
    },
    {
      "metadata": {
        "id": "UjLK7Uixi31k",
        "colab_type": "code",
        "colab": {}
      },
      "cell_type": "code",
      "source": [
        ""
      ],
      "execution_count": 0,
      "outputs": []
    }
  ]
}
